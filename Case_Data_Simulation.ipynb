{
 "cells": [
  {
   "cell_type": "code",
   "execution_count": 1,
   "id": "52b52a86",
   "metadata": {},
   "outputs": [],
   "source": [
    "# imports\n",
    "import pandas as pd\n",
    "import numpy as np\n",
    "import matplotlib.pyplot as plt\n",
    "import seaborn as sns\n",
    "import re\n",
    "from statsmodels.tsa.arima.model import ARIMA\n",
    "from sklearn.metrics import mean_squared_error, mean_absolute_error\n",
    "import math\n",
    "from statsmodels.graphics.tsaplots import plot_acf\n",
    "import datetime\n",
    "from datetime import timedelta\n",
    "import ipywidgets as widgets\n",
    "from IPython.display import display"
   ]
  },
  {
   "cell_type": "code",
   "execution_count": 2,
   "id": "17d5fca8",
   "metadata": {},
   "outputs": [],
   "source": [
    "df_combined = pd.read_csv('data/2022-2024_Stats.csv')"
   ]
  },
  {
   "cell_type": "markdown",
   "id": "9adc23f1",
   "metadata": {},
   "source": [
    "# Model Training"
   ]
  },
  {
   "cell_type": "markdown",
   "id": "e5afe779",
   "metadata": {},
   "source": [
    "## Let users choose between Weekly or Monthly"
   ]
  },
  {
   "cell_type": "code",
   "execution_count": 3,
   "id": "1769185e",
   "metadata": {},
   "outputs": [
    {
     "data": {
      "application/vnd.jupyter.widget-view+json": {
       "model_id": "54c9c504c8ad40569cfd254a5a38b09d",
       "version_major": 2,
       "version_minor": 0
      },
      "text/plain": [
       "Button(description='Weekly', style=ButtonStyle())"
      ]
     },
     "metadata": {},
     "output_type": "display_data"
    },
    {
     "data": {
      "application/vnd.jupyter.widget-view+json": {
       "model_id": "a352f9b21b204f8a8ebd214046e361a8",
       "version_major": 2,
       "version_minor": 0
      },
      "text/plain": [
       "Button(description='Monthly', style=ButtonStyle())"
      ]
     },
     "metadata": {},
     "output_type": "display_data"
    },
    {
     "name": "stdout",
     "output_type": "stream",
     "text": [
      "Button clicked: Weekly\n",
      "60 6 7 1 2 2024-03-25 2024-03-31 6\n"
     ]
    }
   ],
   "source": [
    "# Define button options and their corresponding parameters\n",
    "button_options = {\n",
    "    \"Weekly\": {\"train_days\": df_combined[-60:], \"num_steps\": 6, \"p\": 7, \"d\": 1, \"q\": 2,\n",
    "               \"start_date\": pd.Timestamp('2024-03-25'), \"td_days\": 6},\n",
    "    \"Monthly\": {\"train_days\": df_combined[-100:], \"num_steps\": 29, \"p\": 7, \"d\": 1, \"q\": 1,\n",
    "               \"start_date\": pd.Timestamp('2024-03-25'), \"td_days\": 29}\n",
    "}\n",
    "\n",
    "# Define a function to handle button clicks\n",
    "def on_button_clicked(b):\n",
    "    global clicked_button, train_days, num_steps, p, d, q, start_date, end_date\n",
    "    clicked_button = b.description\n",
    "    print(\"Button clicked:\", clicked_button)\n",
    "\n",
    "    # Update parameters based on the clicked button\n",
    "    parameters = button_options.get(clicked_button)\n",
    "    if parameters:\n",
    "        train_days = parameters[\"train_days\"]\n",
    "        num_steps = parameters[\"num_steps\"]\n",
    "        p, d, q = parameters[\"p\"], parameters[\"d\"], parameters[\"q\"]\n",
    "        start_date = parameters[\"start_date\"].date()\n",
    "        td_days = parameters[\"td_days\"]\n",
    "        end_date = start_date + timedelta(days=td_days)\n",
    "        print(len(train_days), num_steps, p, d, q, start_date, end_date, td_days)\n",
    "\n",
    "# Create buttons\n",
    "buttons = [widgets.Button(description=option) for option in button_options]\n",
    "\n",
    "# Assign callbacks to buttons\n",
    "for button in buttons:\n",
    "    button.on_click(on_button_clicked)\n",
    "\n",
    "# Display buttons\n",
    "display(*buttons)\n"
   ]
  },
  {
   "cell_type": "markdown",
   "id": "6261bc1b",
   "metadata": {},
   "source": [
    "## Predict based on whether Weekly or Monthly"
   ]
  },
  {
   "cell_type": "code",
   "execution_count": null,
   "id": "18111a69",
   "metadata": {},
   "outputs": [],
   "source": [
    "def arima_forecast(train_days, num_steps, p, d, q, var_to_pred):\n",
    "    # Extract the 'Open Balances' column\n",
    "    combined_train_data = train_days[var_to_pred]\n",
    "\n",
    "    # Initialize history with combined training data\n",
    "    history = [x for x in combined_train_data]\n",
    "    #print(history, type(p))\n",
    "\n",
    "    predictions = list()\n",
    "\n",
    "    # Iterate over the number of time steps to make predictions for 2024\n",
    "    for i in range(num_steps):\n",
    "        # Fit ARIMA model with seasonal differencing\n",
    "        model = ARIMA(history, order=(p, d, q))\n",
    "        model_fit = model.fit()\n",
    "\n",
    "        # Forecast the next value\n",
    "        yhat = model_fit.forecast()[0]\n",
    "        # Append the forecasted value to predictions\n",
    "        predictions.append(yhat)\n",
    "\n",
    "        # Update the history with the forecasted value\n",
    "        history.append(yhat)\n",
    "\n",
    "    # Now predictions_2024 contains the predicted values for 2024\n",
    "    print(predictions)\n",
    "    return predictions\n"
   ]
  },
  {
   "cell_type": "code",
   "execution_count": null,
   "id": "b371f3a5",
   "metadata": {},
   "outputs": [],
   "source": [
    "predictions = arima_forecast(train_days, num_steps, p, d, q, var_to_pred='New Cases')"
   ]
  },
  {
   "cell_type": "markdown",
   "id": "04028cff",
   "metadata": {},
   "source": [
    "## Analyse Prediction Accuracy"
   ]
  },
  {
   "cell_type": "code",
   "execution_count": null,
   "id": "4824d0ac",
   "metadata": {},
   "outputs": [],
   "source": [
    "def analyse_pred(df_combined, predictions, start_date, end_date, var_to_pred):\n",
    "    # Create time index\n",
    "    time_index_2024 = pd.date_range(start=start_date, end=end_date, freq='D')\n",
    "\n",
    "    # Plotting\n",
    "    plt.figure(figsize=(10, 6))\n",
    "\n",
    "    #plt.plot(time_index_2024, open_balances_values, label='Correct 2024', color='blue')\n",
    "\n",
    "    # Plot predicted values for 2024\n",
    "    plt.plot(time_index_2024, predictions, label='Predictions 2024', color='red')\n",
    "    plt.title('ARIMA Forecast on ' + var_to_pred)\n",
    "    plt.xlabel('Date')\n",
    "    plt.ylabel(var_to_pred)\n",
    "    plt.legend()\n",
    "    plt.grid(True)\n",
    "    plt.show()"
   ]
  },
  {
   "cell_type": "code",
   "execution_count": null,
   "id": "1b3597a8",
   "metadata": {},
   "outputs": [],
   "source": [
    "analyse_pred(df_combined, predictions, start_date, end_date, var_to_pred='New Cases')"
   ]
  },
  {
   "cell_type": "markdown",
   "id": "04ceba0e",
   "metadata": {},
   "source": [
    "# New Cases: Dynamic Updating of ARIMA\n",
    "\n",
    "Currently only works if you update for one day"
   ]
  },
  {
   "cell_type": "code",
   "execution_count": 4,
   "id": "23532ddd",
   "metadata": {},
   "outputs": [
    {
     "data": {
      "text/html": [
       "<div>\n",
       "<style scoped>\n",
       "    .dataframe tbody tr th:only-of-type {\n",
       "        vertical-align: middle;\n",
       "    }\n",
       "\n",
       "    .dataframe tbody tr th {\n",
       "        vertical-align: top;\n",
       "    }\n",
       "\n",
       "    .dataframe thead th {\n",
       "        text-align: right;\n",
       "    }\n",
       "</style>\n",
       "<table border=\"1\" class=\"dataframe\">\n",
       "  <thead>\n",
       "    <tr style=\"text-align: right;\">\n",
       "      <th></th>\n",
       "      <th>Date</th>\n",
       "      <th>Open Balances</th>\n",
       "      <th>Closed</th>\n",
       "      <th>New Cases</th>\n",
       "    </tr>\n",
       "  </thead>\n",
       "  <tbody>\n",
       "    <tr>\n",
       "      <th>0</th>\n",
       "      <td>2022-01-01</td>\n",
       "      <td>1963</td>\n",
       "      <td>0</td>\n",
       "      <td>468</td>\n",
       "    </tr>\n",
       "    <tr>\n",
       "      <th>1</th>\n",
       "      <td>2022-01-02</td>\n",
       "      <td>2431</td>\n",
       "      <td>0</td>\n",
       "      <td>503</td>\n",
       "    </tr>\n",
       "    <tr>\n",
       "      <th>2</th>\n",
       "      <td>2022-01-03</td>\n",
       "      <td>2934</td>\n",
       "      <td>857</td>\n",
       "      <td>1212</td>\n",
       "    </tr>\n",
       "    <tr>\n",
       "      <th>3</th>\n",
       "      <td>2022-01-04</td>\n",
       "      <td>3146</td>\n",
       "      <td>727</td>\n",
       "      <td>1039</td>\n",
       "    </tr>\n",
       "    <tr>\n",
       "      <th>4</th>\n",
       "      <td>2022-01-05</td>\n",
       "      <td>3368</td>\n",
       "      <td>949</td>\n",
       "      <td>826</td>\n",
       "    </tr>\n",
       "    <tr>\n",
       "      <th>...</th>\n",
       "      <td>...</td>\n",
       "      <td>...</td>\n",
       "      <td>...</td>\n",
       "      <td>...</td>\n",
       "    </tr>\n",
       "    <tr>\n",
       "      <th>810</th>\n",
       "      <td>2024-03-21</td>\n",
       "      <td>2521</td>\n",
       "      <td>429</td>\n",
       "      <td>428</td>\n",
       "    </tr>\n",
       "    <tr>\n",
       "      <th>811</th>\n",
       "      <td>2024-03-22</td>\n",
       "      <td>2499</td>\n",
       "      <td>432</td>\n",
       "      <td>406</td>\n",
       "    </tr>\n",
       "    <tr>\n",
       "      <th>812</th>\n",
       "      <td>2024-03-23</td>\n",
       "      <td>2473</td>\n",
       "      <td>11</td>\n",
       "      <td>211</td>\n",
       "    </tr>\n",
       "    <tr>\n",
       "      <th>813</th>\n",
       "      <td>2024-03-24</td>\n",
       "      <td>2673</td>\n",
       "      <td>0</td>\n",
       "      <td>214</td>\n",
       "    </tr>\n",
       "    <tr>\n",
       "      <th>814</th>\n",
       "      <td>2024-03-25</td>\n",
       "      <td>2737</td>\n",
       "      <td>466</td>\n",
       "      <td>445</td>\n",
       "    </tr>\n",
       "  </tbody>\n",
       "</table>\n",
       "<p>815 rows × 4 columns</p>\n",
       "</div>"
      ],
      "text/plain": [
       "           Date  Open Balances  Closed  New Cases\n",
       "0    2022-01-01           1963       0        468\n",
       "1    2022-01-02           2431       0        503\n",
       "2    2022-01-03           2934     857       1212\n",
       "3    2022-01-04           3146     727       1039\n",
       "4    2022-01-05           3368     949        826\n",
       "..          ...            ...     ...        ...\n",
       "810  2024-03-21           2521     429        428\n",
       "811  2024-03-22           2499     432        406\n",
       "812  2024-03-23           2473      11        211\n",
       "813  2024-03-24           2673       0        214\n",
       "814  2024-03-25           2737     466        445\n",
       "\n",
       "[815 rows x 4 columns]"
      ]
     },
     "execution_count": 4,
     "metadata": {},
     "output_type": "execute_result"
    }
   ],
   "source": [
    "# only putting this here in case i need to clear input\n",
    "df_combined = pd.read_csv('data/2022-2024_Stats.csv')\n",
    "df_combined"
   ]
  },
  {
   "cell_type": "code",
   "execution_count": 5,
   "id": "09497eda",
   "metadata": {},
   "outputs": [
    {
     "name": "stdout",
     "output_type": "stream",
     "text": [
      "Enter today's Open Balance: 1234\n",
      "Enter today's Close Balance: 4321\n",
      "Enter today's New Balance: 115\n",
      "Values successfully added to DataFrame.\n",
      "          Date  Open Balances  Closed  New Cases\n",
      "53  2024-03-19         2786.0   465.0      490.0\n",
      "54  2024-03-20         2737.0   410.0      390.0\n",
      "55  2024-03-21         2521.0   429.0      428.0\n",
      "56  2024-03-22         2499.0   432.0      406.0\n",
      "57  2024-03-23         2473.0    11.0      211.0\n",
      "58  2024-03-24         2673.0     0.0      214.0\n",
      "59  2024-03-25         1234.0  4321.0      115.0\n",
      "[Date             2024-03-25\n",
      "Open Balances          2737\n",
      "Closed                  466\n",
      "New Cases               445\n",
      "Name: 814, dtype: object]\n"
     ]
    },
    {
     "name": "stderr",
     "output_type": "stream",
     "text": [
      "/var/folders/9d/9y37blc53yz64mgqtz66xrrw0000gp/T/ipykernel_12477/3678164048.py:27: FutureWarning: The frame.append method is deprecated and will be removed from pandas in a future version. Use pandas.concat instead.\n",
      "  train_days = train_days.append(new_data, ignore_index=True)\n"
     ]
    }
   ],
   "source": [
    "# input updated numbers for today\n",
    "\n",
    "open_balance_input = input(\"Enter today's Open Balance: \")\n",
    "close_balance_input = input(\"Enter today's Close Balance: \")\n",
    "new_balance_input = input(\"Enter today's New Balance: \")\n",
    "\n",
    "original_data = []\n",
    "\n",
    "# this code causes us to only be able to input 1 day of real values.\n",
    "# need to find a way to make this more dynamic but for now its workable\n",
    "train_days = df_combined[-60:]\n",
    "\n",
    "try:\n",
    "    open_balance = float(open_balance_input)\n",
    "    close_balance = float(close_balance_input)\n",
    "    new_balance = float(new_balance_input)\n",
    "except ValueError:\n",
    "    print(\"Error: Please enter valid numbers for balances.\")\n",
    "else:\n",
    "    original_data.append(df_combined.iloc[-1])\n",
    "    train_days = train_days.drop(df_combined.index[-1])\n",
    "    new_data = {'Date': start_date,\n",
    "                'Open Balances': open_balance,\n",
    "                'Closed': close_balance,\n",
    "                'New Cases': new_balance\n",
    "                }\n",
    "    train_days = train_days.append(new_data, ignore_index=True)\n",
    "    print(\"Values successfully added to DataFrame.\")\n",
    "    print(train_days[-7:])\n",
    "    print(original_data)"
   ]
  },
  {
   "cell_type": "code",
   "execution_count": 6,
   "id": "2c5579b8",
   "metadata": {},
   "outputs": [],
   "source": [
    "def arima_dynamic_forecast(train_days, num_steps, p, d, q, var_to_pred):\n",
    "    # Extract the 'Open Balances' column\n",
    "    combined_train_data = train_days[var_to_pred]\n",
    "\n",
    "    # Initialize history with combined training data\n",
    "    history = [x for x in combined_train_data]\n",
    "\n",
    "    predictions = list()\n",
    "\n",
    "    # Iterate over the number of time steps to make predictions for 2024\n",
    "    for i in range(num_steps):\n",
    "        # Fit ARIMA model with seasonal differencing\n",
    "        model = ARIMA(history, order=(p, d, q))\n",
    "        model_fit = model.fit()\n",
    "\n",
    "        # Forecast the next value\n",
    "        yhat = model_fit.forecast()[0]\n",
    "        # Append the forecasted value to predictions\n",
    "        predictions.append(yhat)\n",
    "\n",
    "        # Update the history with the forecasted value\n",
    "        history.append(yhat)\n",
    "\n",
    "    # Now predictions_2024 contains the predicted values for 2024\n",
    "    print(predictions)\n",
    "    return predictions\n"
   ]
  },
  {
   "cell_type": "code",
   "execution_count": 7,
   "id": "08b55348",
   "metadata": {},
   "outputs": [
    {
     "name": "stderr",
     "output_type": "stream",
     "text": [
      "/Users/user/opt/anaconda3/lib/python3.9/site-packages/statsmodels/base/model.py:604: ConvergenceWarning: Maximum Likelihood optimization failed to converge. Check mle_retvals\n",
      "  warnings.warn(\"Maximum Likelihood optimization failed to \"\n",
      "/Users/user/opt/anaconda3/lib/python3.9/site-packages/statsmodels/base/model.py:604: ConvergenceWarning: Maximum Likelihood optimization failed to converge. Check mle_retvals\n",
      "  warnings.warn(\"Maximum Likelihood optimization failed to \"\n",
      "/Users/user/opt/anaconda3/lib/python3.9/site-packages/statsmodels/base/model.py:604: ConvergenceWarning: Maximum Likelihood optimization failed to converge. Check mle_retvals\n",
      "  warnings.warn(\"Maximum Likelihood optimization failed to \"\n",
      "/Users/user/opt/anaconda3/lib/python3.9/site-packages/statsmodels/base/model.py:604: ConvergenceWarning: Maximum Likelihood optimization failed to converge. Check mle_retvals\n",
      "  warnings.warn(\"Maximum Likelihood optimization failed to \"\n",
      "/Users/user/opt/anaconda3/lib/python3.9/site-packages/statsmodels/base/model.py:604: ConvergenceWarning: Maximum Likelihood optimization failed to converge. Check mle_retvals\n",
      "  warnings.warn(\"Maximum Likelihood optimization failed to \"\n"
     ]
    },
    {
     "name": "stdout",
     "output_type": "stream",
     "text": [
      "[237.1392516295386, 232.59258726773376, 265.7919526645809, 289.23723813828633, 191.3908790821185, 159.67315709929548]\n"
     ]
    }
   ],
   "source": [
    "dynamic_predictions = arima_dynamic_forecast(train_days, num_steps, p, d, q, var_to_pred='New Cases')"
   ]
  },
  {
   "cell_type": "code",
   "execution_count": 8,
   "id": "b8b3ae99",
   "metadata": {},
   "outputs": [],
   "source": [
    "def analyse_dynamic_pred(df_combined, predictions, start_date, end_date, var_to_pred):\n",
    "    # Create time index\n",
    "    time_index_2024 = pd.date_range(start=start_date, end=end_date, freq='D')\n",
    "\n",
    "    # Plotting\n",
    "    plt.figure(figsize=(10, 6))\n",
    "    \n",
    "    original_values = [row[var_to_pred] for row in original_data]\n",
    "    \n",
    "    print(original_values)\n",
    "\n",
    "    # plot real values\n",
    "    plt.bar(time_index_2024[0], original_values, label='Correct 2024', color='blue')\n",
    "    \n",
    "    # Plot predicted values\n",
    "    plt.plot(time_index_2024[1:], dynamic_predictions, label='Predictions 2024', color='red')\n",
    "    plt.title('ARIMA Forecast on ' + var_to_pred)\n",
    "    plt.xlabel('Date')\n",
    "    plt.ylabel(var_to_pred)\n",
    "    plt.legend()\n",
    "    plt.grid(True)\n",
    "    plt.show()"
   ]
  },
  {
   "cell_type": "code",
   "execution_count": 9,
   "id": "70046960",
   "metadata": {},
   "outputs": [
    {
     "name": "stdout",
     "output_type": "stream",
     "text": [
      "[445]\n"
     ]
    },
    {
     "data": {
      "image/png": "[encoded data removed]",
      "text/plain": [
       "<Figure size 1000x600 with 1 Axes>"
      ]
     },
     "metadata": {},
     "output_type": "display_data"
    }
   ],
   "source": [
    "analyse_dynamic_pred(df_combined, dynamic_predictions, start_date, end_date, var_to_pred='New Cases')"
   ]
  },
  {
   "cell_type": "markdown",
   "id": "12101727",
   "metadata": {},
   "source": [
    "# Closed Cases: Dynamic Updating of Simulation"
   ]
  },
  {
   "cell_type": "markdown",
   "id": "6e73c441",
   "metadata": {},
   "source": [
    "# Open Balance: Dynamic Updating of Simulation"
   ]
  },
  {
   "cell_type": "code",
   "execution_count": null,
   "id": "f56e7eb9",
   "metadata": {},
   "outputs": [],
   "source": []
  }
 ],
 "metadata": {
  "kernelspec": {
   "display_name": "Python 3 (ipykernel)",
   "language": "python",
   "name": "python3"
  },
  "language_info": {
   "codemirror_mode": {
    "name": "ipython",
    "version": 3
   },
   "file_extension": ".py",
   "mimetype": "text/x-python",
   "name": "python",
   "nbconvert_exporter": "python",
   "pygments_lexer": "ipython3",
   "version": "3.9.13"
  }
 },
 "nbformat": 4,
 "nbformat_minor": 5
}
