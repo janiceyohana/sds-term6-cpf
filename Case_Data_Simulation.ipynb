{
 "cells": [
  {
   "cell_type": "code",
   "execution_count": 1,
   "id": "52b52a86",
   "metadata": {},
   "outputs": [],
   "source": [
    "# imports\n",
    "import pandas as pd\n",
    "import numpy as np\n",
    "import matplotlib.pyplot as plt\n",
    "import seaborn as sns\n",
    "import re\n",
    "from statsmodels.tsa.arima.model import ARIMA\n",
    "from sklearn.metrics import mean_squared_error, mean_absolute_error\n",
    "import math\n",
    "from statsmodels.graphics.tsaplots import plot_acf\n",
    "import datetime\n",
    "from datetime import timedelta\n",
    "import ipywidgets as widgets\n",
    "from IPython.display import display"
   ]
  },
  {
   "cell_type": "code",
   "execution_count": 2,
   "id": "17d5fca8",
   "metadata": {},
   "outputs": [],
   "source": [
    "df_combined = pd.read_csv('data/2022-2024_Stats.csv')"
   ]
  },
  {
   "cell_type": "markdown",
   "id": "9adc23f1",
   "metadata": {},
   "source": [
    "# Model Training"
   ]
  },
  {
   "cell_type": "markdown",
   "id": "e5afe779",
   "metadata": {},
   "source": [
    "## Let users choose between Weekly or Monthly"
   ]
  },
  {
   "cell_type": "code",
   "execution_count": 3,
   "id": "1769185e",
   "metadata": {},
   "outputs": [
    {
     "data": {
      "application/vnd.jupyter.widget-view+json": {
       "model_id": "3d9b12d6be84469f95731bb508923609",
       "version_major": 2,
       "version_minor": 0
      },
      "text/plain": [
       "Button(description='Weekly', style=ButtonStyle())"
      ]
     },
     "metadata": {},
     "output_type": "display_data"
    },
    {
     "data": {
      "application/vnd.jupyter.widget-view+json": {
       "model_id": "18299a5c9ce64026853702bb245218cb",
       "version_major": 2,
       "version_minor": 0
      },
      "text/plain": [
       "Button(description='Monthly', style=ButtonStyle())"
      ]
     },
     "metadata": {},
     "output_type": "display_data"
    },
    {
     "name": "stdout",
     "output_type": "stream",
     "text": [
      "Button clicked: Weekly\n",
      "60 7 7 1 2 2024-02-25 2024-03-02 6\n"
     ]
    }
   ],
   "source": [
    "# Define button options and their corresponding parameters\n",
    "button_options = {\n",
    "    \"Weekly\": {\"train_days\": df_combined[-90:-30], \"num_steps\": 7, \"p\": 7, \"d\": 1, \"q\": 2,\n",
    "               \"start_date\": pd.Timestamp('2024-02-25'), \"td_days\": 6},\n",
    "    \"Monthly\": {\"train_days\": df_combined[-130:-30], \"num_steps\": 30, \"p\": 7, \"d\": 1, \"q\": 1,\n",
    "               \"start_date\": pd.Timestamp('2024-02-25'), \"td_days\": 29}\n",
    "}\n",
    "\n",
    "# Define a function to handle button clicks\n",
    "def on_button_clicked(b):\n",
    "    global clicked_button, train_days, num_steps, p, d, q, start_date, end_date\n",
    "    clicked_button = b.description\n",
    "    print(\"Button clicked:\", clicked_button)\n",
    "\n",
    "    # Update parameters based on the clicked button\n",
    "    parameters = button_options.get(clicked_button)\n",
    "    if parameters:\n",
    "        train_days = parameters[\"train_days\"]\n",
    "        num_steps = parameters[\"num_steps\"]\n",
    "        p, d, q = parameters[\"p\"], parameters[\"d\"], parameters[\"q\"]\n",
    "        start_date = parameters[\"start_date\"].date()\n",
    "        td_days = parameters[\"td_days\"]\n",
    "        end_date = start_date + timedelta(days=td_days)\n",
    "        print(len(train_days), num_steps, p, d, q, start_date, end_date, td_days)\n",
    "\n",
    "# Create buttons\n",
    "buttons = [widgets.Button(description=option) for option in button_options]\n",
    "\n",
    "# Assign callbacks to buttons\n",
    "for button in buttons:\n",
    "    button.on_click(on_button_clicked)\n",
    "\n",
    "# Display buttons\n",
    "display(*buttons)\n"
   ]
  },
  {
   "cell_type": "markdown",
   "id": "6261bc1b",
   "metadata": {},
   "source": [
    "## Predict based on whether Weekly or Monthly"
   ]
  },
  {
   "cell_type": "code",
   "execution_count": 4,
   "id": "18111a69",
   "metadata": {},
   "outputs": [],
   "source": [
    "def forecast_2024(train_days, num_steps, p, d, q, var_to_pred):\n",
    "    # Extract the 'Open Balances' column\n",
    "    combined_train_data = train_days[var_to_pred]\n",
    "\n",
    "    # Initialize history with combined training data\n",
    "    history = [x for x in combined_train_data]\n",
    "    #print(history, type(p))\n",
    "\n",
    "    predictions = list()\n",
    "\n",
    "    # Iterate over the number of time steps to make predictions for 2024\n",
    "    for i in range(num_steps):\n",
    "        # Fit ARIMA model with seasonal differencing\n",
    "        model = ARIMA(history, order=(p, d, q))\n",
    "        model_fit = model.fit()\n",
    "\n",
    "        # Forecast the next value\n",
    "        yhat = model_fit.forecast()[0]\n",
    "        # Append the forecasted value to predictions\n",
    "        predictions.append(yhat)\n",
    "\n",
    "        # Update the history with the forecasted value\n",
    "        history.append(yhat)\n",
    "\n",
    "    # Now predictions_2024 contains the predicted values for 2024\n",
    "    print(predictions)\n",
    "    return predictions\n"
   ]
  },
  {
   "cell_type": "code",
   "execution_count": 5,
   "id": "b371f3a5",
   "metadata": {},
   "outputs": [
    {
     "name": "stderr",
     "output_type": "stream",
     "text": [
      "/Users/user/opt/anaconda3/lib/python3.9/site-packages/statsmodels/base/model.py:604: ConvergenceWarning: Maximum Likelihood optimization failed to converge. Check mle_retvals\n",
      "  warnings.warn(\"Maximum Likelihood optimization failed to \"\n",
      "/Users/user/opt/anaconda3/lib/python3.9/site-packages/statsmodels/base/model.py:604: ConvergenceWarning: Maximum Likelihood optimization failed to converge. Check mle_retvals\n",
      "  warnings.warn(\"Maximum Likelihood optimization failed to \"\n",
      "/Users/user/opt/anaconda3/lib/python3.9/site-packages/statsmodels/base/model.py:604: ConvergenceWarning: Maximum Likelihood optimization failed to converge. Check mle_retvals\n",
      "  warnings.warn(\"Maximum Likelihood optimization failed to \"\n",
      "/Users/user/opt/anaconda3/lib/python3.9/site-packages/statsmodels/base/model.py:604: ConvergenceWarning: Maximum Likelihood optimization failed to converge. Check mle_retvals\n",
      "  warnings.warn(\"Maximum Likelihood optimization failed to \"\n",
      "/Users/user/opt/anaconda3/lib/python3.9/site-packages/statsmodels/base/model.py:604: ConvergenceWarning: Maximum Likelihood optimization failed to converge. Check mle_retvals\n",
      "  warnings.warn(\"Maximum Likelihood optimization failed to \"\n"
     ]
    },
    {
     "name": "stdout",
     "output_type": "stream",
     "text": [
      "[340.27217703830024, 617.1435545777674, 610.0727817726213, 559.6611678205333, 540.2852301322561, 404.413576078858, 278.18222793193655]\n"
     ]
    },
    {
     "name": "stderr",
     "output_type": "stream",
     "text": [
      "/Users/user/opt/anaconda3/lib/python3.9/site-packages/statsmodels/base/model.py:604: ConvergenceWarning: Maximum Likelihood optimization failed to converge. Check mle_retvals\n",
      "  warnings.warn(\"Maximum Likelihood optimization failed to \"\n"
     ]
    }
   ],
   "source": [
    "predictions = forecast_2024(train_days, num_steps, p, d, q, var_to_pred='New Cases')"
   ]
  },
  {
   "cell_type": "markdown",
   "id": "04028cff",
   "metadata": {},
   "source": [
    "## Analyse Prediction Accuracy"
   ]
  },
  {
   "cell_type": "code",
   "execution_count": 8,
   "id": "4824d0ac",
   "metadata": {},
   "outputs": [],
   "source": [
    "def analyse_pred(df_combined, predictions, start_date, end_date, var_to_pred):\n",
    "    # Create time index\n",
    "    time_index_2024 = pd.date_range(start=start_date, end=end_date, freq='D')\n",
    "    \n",
    "    start_date = pd.Timestamp(start_date)\n",
    "    end_date = pd.Timestamp(end_date)\n",
    "    \n",
    "    # Filter the DataFrame based on the specified date range\n",
    "    df_combined['Date'] = pd.to_datetime(df_combined['Date'])\n",
    "    filtered_df = df_combined[(df_combined['Date'] >= start_date) & (df_combined['Date'] <= end_date)]\n",
    "\n",
    "    # Extract 'Open Balances' values from the filtered DataFrame\n",
    "    open_balances_values = filtered_df[var_to_pred].tolist()\n",
    "\n",
    "    # Plotting\n",
    "    plt.figure(figsize=(10, 6))\n",
    "\n",
    "    plt.plot(time_index_2024, open_balances_values, label='Correct 2024', color='blue')\n",
    "\n",
    "    # Plot predicted values for 2024\n",
    "    plt.plot(time_index_2024, predictions, label='Predictions 2024', color='red')\n",
    "\n",
    "    plt.title('2024 Predictions')\n",
    "    plt.xlabel('Date')\n",
    "    plt.ylabel(var_to_pred)\n",
    "    plt.legend()\n",
    "    plt.grid(True)\n",
    "    plt.show()\n",
    "\n",
    "    # Report performance\n",
    "    mse = mean_squared_error(open_balances_values, predictions)\n",
    "    print('MSE: '+str(mse))\n",
    "    mae = mean_absolute_error(open_balances_values, predictions)\n",
    "    print('MAE: '+str(mae))\n",
    "    rmse = math.sqrt(mean_squared_error(open_balances_values, predictions))\n",
    "    print('RMSE: '+str(rmse))\n",
    "\n",
    "    mean_actual_values = sum(open_balances_values) / len(open_balances_values)\n",
    "    error_percentage = (mae / mean_actual_values) * 100\n",
    "    print(\"Measure error compared to the scale of actual values :\", error_percentage)\n",
    "    \n",
    "    return mse, mae, rmse, error_percentage"
   ]
  },
  {
   "cell_type": "code",
   "execution_count": 9,
   "id": "1b3597a8",
   "metadata": {},
   "outputs": [
    {
     "data": {
      "image/png": "[encoded data removed]",
      "text/plain": [
       "<Figure size 1000x600 with 1 Axes>"
      ]
     },
     "metadata": {},
     "output_type": "display_data"
    },
    {
     "name": "stdout",
     "output_type": "stream",
     "text": [
      "MSE: 2006.7246934441241\n",
      "MAE: 35.681555784825626\n",
      "RMSE: 44.7964808153958\n",
      "Measure error compared to the scale of actual values : 7.370046931064603\n",
      "2006.7246934441241 35.681555784825626 44.7964808153958 7.370046931064603\n"
     ]
    }
   ],
   "source": [
    "# start_date = pd.Timestamp('2024-02-25')\n",
    "# end_date = start_date + timedelta(days=6)\n",
    "\n",
    "mse, mae, rmse, error_percentage = analyse_pred(df_combined, predictions, start_date, end_date, var_to_pred='New Cases')\n",
    "print(mse, mae, rmse, error_percentage)"
   ]
  },
  {
   "cell_type": "markdown",
   "id": "04ceba0e",
   "metadata": {},
   "source": [
    "# New Cases: Dynamic Updating of ARIMA"
   ]
  },
  {
   "cell_type": "code",
   "execution_count": 10,
   "id": "23532ddd",
   "metadata": {},
   "outputs": [],
   "source": [
    "# only putting this here in case i need to clear input\n",
    "df_combined = pd.read_csv('data/2022-2024_Stats.csv')"
   ]
  },
  {
   "cell_type": "code",
   "execution_count": 11,
   "id": "09497eda",
   "metadata": {},
   "outputs": [
    {
     "name": "stdout",
     "output_type": "stream",
     "text": [
      "Enter today's Open Balance: 56\n",
      "Enter today's Close Balance: 77\n",
      "Enter today's New Balance: 77\n",
      "Values successfully added to DataFrame.\n",
      "           Date  Open Balances  Closed  New Cases\n",
      "809  2024-03-20         2737.0   410.0      390.0\n",
      "810  2024-03-21         2521.0   429.0      428.0\n",
      "811  2024-03-22         2499.0   432.0      406.0\n",
      "812  2024-03-23         2473.0    11.0      211.0\n",
      "813  2024-03-24         2673.0     0.0      214.0\n",
      "814  2024-03-25         2737.0   466.0      445.0\n",
      "815  2024-02-25           56.0    77.0       77.0\n"
     ]
    },
    {
     "name": "stderr",
     "output_type": "stream",
     "text": [
      "/var/folders/9d/9y37blc53yz64mgqtz66xrrw0000gp/T/ipykernel_9563/3523237150.py:17: FutureWarning: The frame.append method is deprecated and will be removed from pandas in a future version. Use pandas.concat instead.\n",
      "  df_combined = df_combined.append(new_data, ignore_index=True)\n"
     ]
    }
   ],
   "source": [
    "open_balance_input = input(\"Enter today's Open Balance: \")\n",
    "close_balance_input = input(\"Enter today's Close Balance: \")\n",
    "new_balance_input = input(\"Enter today's New Balance: \")\n",
    "\n",
    "try:\n",
    "    open_balance = float(open_balance_input)\n",
    "    close_balance = float(close_balance_input)\n",
    "    new_balance = float(new_balance_input)\n",
    "except ValueError:\n",
    "    print(\"Error: Please enter valid numbers for balances.\")\n",
    "else:\n",
    "    new_data = {'Date': start_date,\n",
    "                'Open Balances': open_balance,\n",
    "                'Closed': close_balance,\n",
    "                'New Cases': new_balance\n",
    "                }\n",
    "    df_combined = df_combined.append(new_data, ignore_index=True)\n",
    "    print(\"Values successfully added to DataFrame.\")\n",
    "    print(df_combined[-7:])"
   ]
  },
  {
   "cell_type": "code",
   "execution_count": null,
   "id": "17881db6",
   "metadata": {},
   "outputs": [],
   "source": [
    "# # Initialize an empty list to store predictions for 2024\n",
    "predictions_2024 = []\n",
    "\n",
    "# Number of time steps to forecast for each update\n",
    "num_steps_2024 = 7\n",
    "\n",
    "combined_train_data = df_2022_2024_testing['New Cases']\n",
    "history = combined_train_data.tolist()\n",
    "\n",
    "if len(combined_train_data) >= 90:\n",
    "\n",
    "    history.pop(0)  # Remove the oldest value from history\n",
    "    combined_train_data.pop(0) # Remove the oldest value from combined_train_data\n",
    "    df_2022_2024_testing = df_2022_2024_testing.drop(df_2022_2024_testing.index[0])\n",
    "\n",
    "# Make predictions for the next 7 days\n",
    "for i in range(num_steps_2024):\n",
    "    # Fit ARIMA model with seasonal differencing\n",
    "    model = ARIMA(history, order=(7,1,2)) # 7, 1, 0 is the best combination\n",
    "    model_fit = model.fit()\n",
    "\n",
    "    # Forecast the next value\n",
    "    yhat = model_fit.forecast()[0]\n",
    "    # Append the forecasted value to predictions\n",
    "    predictions_2024.append(yhat)\n",
    "\n",
    "    # Update the history with the forecasted value\n",
    "    history.append(yhat)\n",
    "\n",
    "\n",
    "#combined_train_data.pop(0)\n",
    "\n",
    "# Now predictions_2024 contains the predicted values for 2024\n",
    "print(len(combined_train_data))\n",
    "print(predictions_2024)"
   ]
  },
  {
   "cell_type": "code",
   "execution_count": null,
   "id": "12f1643a",
   "metadata": {},
   "outputs": [],
   "source": [
    "def dynamic_forecast(train_days, num_steps, p, d, q, var_to_pred):\n",
    "    # Extract the 'Open Balances' column\n",
    "    combined_train_data = train_days[var_to_pred]\n",
    "\n",
    "    # Initialize history with combined training data\n",
    "    history = [x for x in combined_train_data]\n",
    "    #print(history, type(p))\n",
    "\n",
    "    predictions = list()\n",
    "\n",
    "    # Iterate over the number of time steps to make predictions for 2024\n",
    "    for i in range(num_steps):\n",
    "        # Fit ARIMA model with seasonal differencing\n",
    "        model = ARIMA(history, order=(p, d, q))\n",
    "        model_fit = model.fit()\n",
    "\n",
    "        # Forecast the next value\n",
    "        yhat = model_fit.forecast()[0]\n",
    "        # Append the forecasted value to predictions\n",
    "        predictions.append(yhat)\n",
    "\n",
    "        # Update the history with the forecasted value\n",
    "        history.append(yhat)\n",
    "\n",
    "    # Now predictions_2024 contains the predicted values for 2024\n",
    "    print(predictions)\n",
    "    return predictions\n"
   ]
  },
  {
   "cell_type": "code",
   "execution_count": null,
   "id": "076c50c4",
   "metadata": {},
   "outputs": [],
   "source": [
    "print(len(history))\n",
    "print(history)"
   ]
  },
  {
   "cell_type": "code",
   "execution_count": null,
   "id": "a02db494",
   "metadata": {},
   "outputs": [],
   "source": [
    "# start_date_2024 = pd.Timestamp.today().date()\n",
    "# print(start_date_2024)\n",
    "combined_train_data\n",
    "df_2022_2024_testing"
   ]
  },
  {
   "cell_type": "code",
   "execution_count": null,
   "id": "072f0956",
   "metadata": {},
   "outputs": [],
   "source": [
    "from datetime import timedelta\n",
    "\n",
    "# turn dataframe back into date index\n",
    "today_date = pd.to_datetime('2024-03-26')\n",
    "\n",
    "# 90 days prior\n",
    "start_historical_date = today_date - timedelta(days=89)\n",
    "# date range for 90 days\n",
    "historical_date_range = pd.date_range(start=start_historical_date, end=today_date, freq='D')\n",
    "print(len(historical_date_range))\n",
    "# make date the index\n",
    "df_2022_2024_testing.index = historical_date_range\n",
    "\n",
    "df_2022_2024_testing"
   ]
  },
  {
   "cell_type": "code",
   "execution_count": null,
   "id": "6b57ff6b",
   "metadata": {},
   "outputs": [],
   "source": [
    "# Sample data for filtered_values\n",
    "filtered_values = df_2022_2024_testing['New Cases'][-1:]\n",
    "\n",
    "# Calculate the start and end dates for predictions\n",
    "pred_start_date = pd.Timestamp('2024-03-27')\n",
    "pred_end_date = pred_start_date + pd.Timedelta(days=6)\n",
    "time_index_2024 = pd.date_range(start=pred_start_date, end=pred_end_date, freq='D')\n",
    "\n",
    "# Plotting\n",
    "plt.figure(figsize=(10, 6))\n",
    "\n",
    "# Plot filtered_values as a bar plot\n",
    "plt.bar(df_2022_2024_testing.index[-1:], filtered_values, label='Correct 2024', color='blue')\n",
    "\n",
    "# Plot predicted values for 2024 as a line plot\n",
    "plt.plot(time_index_2024, predictions_2024, marker='x', label='Predictions 2024', color='red')\n",
    "\n",
    "plt.title('2024 Predictions')\n",
    "plt.xlabel('Date')\n",
    "plt.ylabel('New Cases')\n",
    "plt.legend()\n",
    "plt.grid(True)\n",
    "plt.show()"
   ]
  },
  {
   "cell_type": "markdown",
   "id": "12101727",
   "metadata": {},
   "source": [
    "# Closed Cases: Dynamic Updating of Simulation"
   ]
  },
  {
   "cell_type": "markdown",
   "id": "6e73c441",
   "metadata": {},
   "source": [
    "# Open Balance: Dynamic Updating of Simulation"
   ]
  },
  {
   "cell_type": "code",
   "execution_count": null,
   "id": "f56e7eb9",
   "metadata": {},
   "outputs": [],
   "source": []
  }
 ],
 "metadata": {
  "kernelspec": {
   "display_name": "Python 3 (ipykernel)",
   "language": "python",
   "name": "python3"
  },
  "language_info": {
   "codemirror_mode": {
    "name": "ipython",
    "version": 3
   },
   "file_extension": ".py",
   "mimetype": "text/x-python",
   "name": "python",
   "nbconvert_exporter": "python",
   "pygments_lexer": "ipython3",
   "version": "3.9.13"
  }
 },
 "nbformat": 4,
 "nbformat_minor": 5
}
